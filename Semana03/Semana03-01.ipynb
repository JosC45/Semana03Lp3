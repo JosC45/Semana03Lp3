{
 "cells": [
  {
   "cell_type": "markdown",
   "id": "7c74fde1",
   "metadata": {},
   "source": [
    "# Semana 03\n",
    "MG. Flor Elizabeth Cerdán León"
   ]
  },
  {
   "cell_type": "markdown",
   "id": "4dc96e99",
   "metadata": {},
   "source": [
    "Temas:\n",
    "    1.Numeros\n",
    "    2.Variables\n",
    "    3.Manejo de Cadenas\n",
    "    4.Ingreso de Cadenas\n",
    "    5.Operadores"
   ]
  },
  {
   "cell_type": "markdown",
   "id": "9a597fc2",
   "metadata": {},
   "source": [
    "1.Numeros"
   ]
  },
  {
   "cell_type": "code",
   "execution_count": 1,
   "id": "75672874",
   "metadata": {},
   "outputs": [
    {
     "data": {
      "text/plain": [
       "14"
      ]
     },
     "execution_count": 1,
     "metadata": {},
     "output_type": "execute_result"
    }
   ],
   "source": [
    "9+5"
   ]
  },
  {
   "cell_type": "code",
   "execution_count": 2,
   "id": "e6ee7086",
   "metadata": {},
   "outputs": [
    {
     "data": {
      "text/plain": [
       "54"
      ]
     },
     "execution_count": 2,
     "metadata": {},
     "output_type": "execute_result"
    }
   ],
   "source": [
    "100-46"
   ]
  },
  {
   "cell_type": "code",
   "execution_count": 3,
   "id": "28cb6cca",
   "metadata": {},
   "outputs": [
    {
     "data": {
      "text/plain": [
       "2347389"
      ]
     },
     "execution_count": 3,
     "metadata": {},
     "output_type": "execute_result"
    }
   ],
   "source": [
    "543*4323"
   ]
  },
  {
   "cell_type": "code",
   "execution_count": 4,
   "id": "e6b034ac",
   "metadata": {},
   "outputs": [
    {
     "data": {
      "text/plain": [
       "10595.486068111455"
      ]
     },
     "execution_count": 4,
     "metadata": {},
     "output_type": "execute_result"
    }
   ],
   "source": [
    "3422342/323"
   ]
  },
  {
   "cell_type": "code",
   "execution_count": null,
   "id": "de15bfdf",
   "metadata": {},
   "outputs": [],
   "source": []
  }
 ],
 "metadata": {
  "kernelspec": {
   "display_name": "Python 3 (ipykernel)",
   "language": "python",
   "name": "python3"
  },
  "language_info": {
   "codemirror_mode": {
    "name": "ipython",
    "version": 3
   },
   "file_extension": ".py",
   "mimetype": "text/x-python",
   "name": "python",
   "nbconvert_exporter": "python",
   "pygments_lexer": "ipython3",
   "version": "3.9.13"
  }
 },
 "nbformat": 4,
 "nbformat_minor": 5
}
