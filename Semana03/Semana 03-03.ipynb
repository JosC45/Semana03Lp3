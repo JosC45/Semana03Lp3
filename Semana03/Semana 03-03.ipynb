{
 "cells": [
  {
   "cell_type": "markdown",
   "id": "2ec4c689",
   "metadata": {},
   "source": [
    "# Semana03\n",
    "Mg.Flor Cerdan Leon"
   ]
  },
  {
   "cell_type": "code",
   "execution_count": null,
   "id": "4a76d575",
   "metadata": {},
   "outputs": [],
   "source": [
    "Temas:\n",
    "    1.Numeros\n",
    "    2.Variables\n",
    "    3.Manejo de Cadenas\n",
    "    4.Ingreso de Cadenas\n",
    "    5.Operadores"
   ]
  },
  {
   "cell_type": "markdown",
   "id": "21c67bd7",
   "metadata": {},
   "source": [
    "3.Manejo de variables"
   ]
  },
  {
   "cell_type": "code",
   "execution_count": 2,
   "id": "e6f133e8",
   "metadata": {},
   "outputs": [
    {
     "data": {
      "text/plain": [
       "'Universidad Nacional Tecnologica de Lima Sur'"
      ]
     },
     "execution_count": 2,
     "metadata": {},
     "output_type": "execute_result"
    }
   ],
   "source": [
    "cadena=\"Universidad Nacional Tecnologica de Lima Sur\"\n",
    "cadena"
   ]
  },
  {
   "cell_type": "code",
   "execution_count": null,
   "id": "f5058411",
   "metadata": {},
   "outputs": [],
   "source": [
    "#Universidad Nacional Tecnologica de Lima Sur\n",
    "#0123...\n",
    "#              .....-3-2-1"
   ]
  },
  {
   "cell_type": "code",
   "execution_count": 5,
   "id": "b1bf5ace",
   "metadata": {},
   "outputs": [
    {
     "data": {
      "text/plain": [
       "'T'"
      ]
     },
     "execution_count": 5,
     "metadata": {},
     "output_type": "execute_result"
    }
   ],
   "source": [
    "cadena[-23]"
   ]
  },
  {
   "cell_type": "code",
   "execution_count": 6,
   "id": "2a011790",
   "metadata": {},
   "outputs": [
    {
     "data": {
      "text/plain": [
       "'T'"
      ]
     },
     "execution_count": 6,
     "metadata": {},
     "output_type": "execute_result"
    }
   ],
   "source": [
    "cadena[21]"
   ]
  },
  {
   "cell_type": "code",
   "execution_count": 7,
   "id": "6df57c97",
   "metadata": {},
   "outputs": [
    {
     "data": {
      "text/plain": [
       "' '"
      ]
     },
     "execution_count": 7,
     "metadata": {},
     "output_type": "execute_result"
    }
   ],
   "source": [
    "cadena[11]"
   ]
  },
  {
   "cell_type": "code",
   "execution_count": 8,
   "id": "7f537d04",
   "metadata": {},
   "outputs": [
    {
     "data": {
      "text/plain": [
       "'versi'"
      ]
     },
     "execution_count": 8,
     "metadata": {},
     "output_type": "execute_result"
    }
   ],
   "source": [
    "cadena[3:8]"
   ]
  },
  {
   "cell_type": "code",
   "execution_count": 10,
   "id": "d1722545",
   "metadata": {},
   "outputs": [
    {
     "data": {
      "text/plain": [
       "44"
      ]
     },
     "execution_count": 10,
     "metadata": {},
     "output_type": "execute_result"
    }
   ],
   "source": [
    "len(cadena)"
   ]
  },
  {
   "cell_type": "code",
   "execution_count": 12,
   "id": "93d945b8",
   "metadata": {},
   "outputs": [
    {
     "data": {
      "text/plain": [
       "'UNIVERSIDAD NACIONAL TECNOLOGICA DE LIMA SUR'"
      ]
     },
     "execution_count": 12,
     "metadata": {},
     "output_type": "execute_result"
    }
   ],
   "source": [
    "cadena.upper()"
   ]
  },
  {
   "cell_type": "code",
   "execution_count": 13,
   "id": "54defec0",
   "metadata": {},
   "outputs": [
    {
     "data": {
      "text/plain": [
       "'universidad nacional tecnologica de lima sur'"
      ]
     },
     "execution_count": 13,
     "metadata": {},
     "output_type": "execute_result"
    }
   ],
   "source": [
    "cadena.lower()"
   ]
  },
  {
   "cell_type": "code",
   "execution_count": 15,
   "id": "be51de06",
   "metadata": {},
   "outputs": [
    {
     "data": {
      "text/plain": [
       "['Universidad', 'Nacional', 'Tecnologica', 'de', 'Lima', 'Sur']"
      ]
     },
     "execution_count": 15,
     "metadata": {},
     "output_type": "execute_result"
    }
   ],
   "source": [
    "cadena.split()"
   ]
  },
  {
   "cell_type": "code",
   "execution_count": 20,
   "id": "5404f3f0",
   "metadata": {},
   "outputs": [
    {
     "data": {
      "text/plain": [
       "['Universidad', 'Nacional', 'Tecnologica', 'de', 'Lima', 'Sur']"
      ]
     },
     "execution_count": 20,
     "metadata": {},
     "output_type": "execute_result"
    }
   ],
   "source": [
    "cadena.split(\" \")"
   ]
  },
  {
   "cell_type": "code",
   "execution_count": 23,
   "id": "87da98e5",
   "metadata": {},
   "outputs": [
    {
     "name": "stdout",
     "output_type": "stream",
     "text": [
      "Buenos dias Josue Caman\n"
     ]
    }
   ],
   "source": [
    "nombre=\"Josue Caman\"\n",
    "print(\"Buenos dias \"+nombre)"
   ]
  },
  {
   "cell_type": "code",
   "execution_count": 27,
   "id": "b4970701",
   "metadata": {},
   "outputs": [
    {
     "name": "stdout",
     "output_type": "stream",
     "text": [
      "hola Pablo Levano ya se que tienes 10 años\n"
     ]
    }
   ],
   "source": [
    "nombre=\"Pablo Levano\"\n",
    "edad=10\n",
    "print(\"hola {} ya se que tienes {} años\".format(nombre,edad))"
   ]
  },
  {
   "cell_type": "code",
   "execution_count": 30,
   "id": "b3871970",
   "metadata": {},
   "outputs": [
    {
     "name": "stdout",
     "output_type": "stream",
     "text": [
      "10/3 es = 3.3333333333333335\n",
      "10/3 es = 3.33\n"
     ]
    }
   ],
   "source": [
    "resultado=10/3\n",
    "print(\"10/3 es = {}\".format(resultado))\n",
    "print(\"10/3 es = {r:1.2f}\".format(r=resultado))"
   ]
  },
  {
   "cell_type": "code",
   "execution_count": 32,
   "id": "994305d2",
   "metadata": {},
   "outputs": [
    {
     "name": "stdout",
     "output_type": "stream",
     "text": [
      "Buenos dias Danieli Levano ,ya se que tienes 11 años\n"
     ]
    }
   ],
   "source": [
    "nombre=\"Danieli Levano\"\n",
    "edad=11\n",
    "print(f\"Buenos dias {nombre} ,ya se que tienes {edad} años\")"
   ]
  },
  {
   "cell_type": "code",
   "execution_count": null,
   "id": "43f0d901",
   "metadata": {},
   "outputs": [],
   "source": [
    "resultado=10/3\n",
    "print(f\"10/3 es = {resultado} \")\n",
    "print(f\"10/3 es = \")"
   ]
  }
 ],
 "metadata": {
  "kernelspec": {
   "display_name": "Python 3 (ipykernel)",
   "language": "python",
   "name": "python3"
  },
  "language_info": {
   "codemirror_mode": {
    "name": "ipython",
    "version": 3
   },
   "file_extension": ".py",
   "mimetype": "text/x-python",
   "name": "python",
   "nbconvert_exporter": "python",
   "pygments_lexer": "ipython3",
   "version": "3.9.13"
  }
 },
 "nbformat": 4,
 "nbformat_minor": 5
}
