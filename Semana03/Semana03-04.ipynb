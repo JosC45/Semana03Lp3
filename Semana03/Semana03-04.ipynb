{
 "cells": [
  {
   "cell_type": "markdown",
   "id": "1d50a3a3",
   "metadata": {},
   "source": [
    "# Semana 03\n",
    "MG. Flor Elizabeth Cerdán León"
   ]
  },
  {
   "cell_type": "markdown",
   "id": "29627bd1",
   "metadata": {},
   "source": [
    "Temas:\n",
    "    1.Numeros\n",
    "    2.Variables\n",
    "    3.Manejo de Cadenas\n",
    "    4.Ingreso de Cadenas\n",
    "    5.Operadores"
   ]
  },
  {
   "cell_type": "markdown",
   "id": "45939674",
   "metadata": {},
   "source": [
    "4.Ingreso de cadenas"
   ]
  },
  {
   "cell_type": "code",
   "execution_count": 4,
   "id": "04c13357",
   "metadata": {},
   "outputs": [
    {
     "name": "stdout",
     "output_type": "stream",
     "text": [
      "numero1: \n",
      "2\n",
      "numero2: \n",
      "3\n",
      "numero3: \n",
      "El resultado es 5\n"
     ]
    }
   ],
   "source": [
    "print(\"numero1: \")\n",
    "numero1=input()\n",
    "print(\"numero2: \")\n",
    "numero2=input()\n",
    "print(\"numero3: \")\n",
    "numero3=int(numero1) +int(numero2)\n",
    "print(f\"El resultado es {numero3}\")"
   ]
  }
 ],
 "metadata": {
  "kernelspec": {
   "display_name": "Python 3 (ipykernel)",
   "language": "python",
   "name": "python3"
  },
  "language_info": {
   "codemirror_mode": {
    "name": "ipython",
    "version": 3
   },
   "file_extension": ".py",
   "mimetype": "text/x-python",
   "name": "python",
   "nbconvert_exporter": "python",
   "pygments_lexer": "ipython3",
   "version": "3.9.13"
  }
 },
 "nbformat": 4,
 "nbformat_minor": 5
}
