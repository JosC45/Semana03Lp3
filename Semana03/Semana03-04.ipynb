{
 "cells": [
  {
   "cell_type": "markdown",
   "id": "4d336e35",
   "metadata": {},
   "source": [
    "# Semana 03\n",
    "MG. Flor Elizabeth Cerdán León"
   ]
  },
  {
   "cell_type": "markdown",
   "id": "74915a61",
   "metadata": {},
   "source": [
    "Temas:\n",
    "    1.Numeros\n",
    "    2.Variables\n",
    "    3.Manejo de Cadenas\n",
    "    4.Ingreso de Cadenas\n",
    "    5.Operadores"
   ]
  },
  {
   "cell_type": "markdown",
   "id": "ceb74fdd",
   "metadata": {},
   "source": [
    "4.Ingreso de cadenas"
   ]
  },
  {
   "cell_type": "code",
   "execution_count": null,
   "id": "2dc8dc96",
   "metadata": {},
   "outputs": [],
   "source": [
    "print(\"numero1: \")\n",
    "numero1=i"
   ]
  }
 ],
 "metadata": {
  "kernelspec": {
   "display_name": "Python 3 (ipykernel)",
   "language": "python",
   "name": "python3"
  },
  "language_info": {
   "codemirror_mode": {
    "name": "ipython",
    "version": 3
   },
   "file_extension": ".py",
   "mimetype": "text/x-python",
   "name": "python",
   "nbconvert_exporter": "python",
   "pygments_lexer": "ipython3",
   "version": "3.9.13"
  }
 },
 "nbformat": 4,
 "nbformat_minor": 5
}
