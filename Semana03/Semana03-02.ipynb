{
 "cells": [
  {
   "cell_type": "markdown",
   "id": "fe9a5e92",
   "metadata": {},
   "source": [
    "# Semana 03\n",
    "MG. Flor Elizabeth Cerdan Leon"
   ]
  },
  {
   "cell_type": "code",
   "execution_count": null,
   "id": "32c1a58a",
   "metadata": {},
   "outputs": [],
   "source": [
    "Temas:\n",
    "    1.Numeros\n",
    "    2.Variables\n",
    "    3.Manejo de Cadenas\n",
    "    4.Ingreso de Cadenas\n",
    "    5.Operadores"
   ]
  },
  {
   "cell_type": "markdown",
   "id": "7d0fa460",
   "metadata": {},
   "source": [
    "2.Variables"
   ]
  },
  {
   "cell_type": "code",
   "execution_count": 4,
   "id": "2a057e93",
   "metadata": {},
   "outputs": [],
   "source": [
    "edad = 20"
   ]
  },
  {
   "cell_type": "code",
   "execution_count": 5,
   "id": "cfb37076",
   "metadata": {},
   "outputs": [
    {
     "data": {
      "text/plain": [
       "20"
      ]
     },
     "execution_count": 5,
     "metadata": {},
     "output_type": "execute_result"
    }
   ],
   "source": [
    "edad"
   ]
  },
  {
   "cell_type": "code",
   "execution_count": 14,
   "id": "6bbda433",
   "metadata": {},
   "outputs": [],
   "source": [
    "Nombre=\"Josue Sebastian\""
   ]
  },
  {
   "cell_type": "code",
   "execution_count": 15,
   "id": "ed82a207",
   "metadata": {},
   "outputs": [
    {
     "data": {
      "text/plain": [
       "'Josue Sebastian'"
      ]
     },
     "execution_count": 15,
     "metadata": {},
     "output_type": "execute_result"
    }
   ],
   "source": [
    "Nombre"
   ]
  },
  {
   "cell_type": "code",
   "execution_count": 16,
   "id": "577a6d05",
   "metadata": {},
   "outputs": [],
   "source": [
    "Apellido=\"Caman Aguirre\""
   ]
  },
  {
   "cell_type": "code",
   "execution_count": 17,
   "id": "02f748c4",
   "metadata": {},
   "outputs": [
    {
     "data": {
      "text/plain": [
       "'Caman Aguirre'"
      ]
     },
     "execution_count": 17,
     "metadata": {},
     "output_type": "execute_result"
    }
   ],
   "source": [
    "Apellido"
   ]
  },
  {
   "cell_type": "code",
   "execution_count": 23,
   "id": "cf51348c",
   "metadata": {},
   "outputs": [],
   "source": [
    "nombrecompleto=Nombre +\" \"+Apellido\n"
   ]
  },
  {
   "cell_type": "code",
   "execution_count": 24,
   "id": "b66ab26f",
   "metadata": {},
   "outputs": [
    {
     "data": {
      "text/plain": [
       "'Josue Sebastian Caman Aguirre'"
      ]
     },
     "execution_count": 24,
     "metadata": {},
     "output_type": "execute_result"
    }
   ],
   "source": [
    "nombrecompleto"
   ]
  },
  {
   "cell_type": "code",
   "execution_count": 25,
   "id": "3853b94f",
   "metadata": {},
   "outputs": [
    {
     "data": {
      "text/plain": [
       "int"
      ]
     },
     "execution_count": 25,
     "metadata": {},
     "output_type": "execute_result"
    }
   ],
   "source": [
    "numero=50\n",
    "type(numero)"
   ]
  },
  {
   "cell_type": "code",
   "execution_count": 27,
   "id": "3175410c",
   "metadata": {},
   "outputs": [
    {
     "data": {
      "text/plain": [
       "str"
      ]
     },
     "execution_count": 27,
     "metadata": {},
     "output_type": "execute_result"
    }
   ],
   "source": [
    "type(Nombre)"
   ]
  },
  {
   "cell_type": "code",
   "execution_count": 29,
   "id": "e1f1fec9",
   "metadata": {},
   "outputs": [
    {
     "data": {
      "text/plain": [
       "1.7"
      ]
     },
     "execution_count": 29,
     "metadata": {},
     "output_type": "execute_result"
    }
   ],
   "source": [
    "talla=1.70\n",
    "talla"
   ]
  },
  {
   "cell_type": "code",
   "execution_count": 30,
   "id": "d966a0bc",
   "metadata": {},
   "outputs": [
    {
     "data": {
      "text/plain": [
       "float"
      ]
     },
     "execution_count": 30,
     "metadata": {},
     "output_type": "execute_result"
    }
   ],
   "source": [
    "type(talla)"
   ]
  },
  {
   "cell_type": "code",
   "execution_count": 31,
   "id": "36291722",
   "metadata": {},
   "outputs": [
    {
     "data": {
      "text/plain": [
       "'100'"
      ]
     },
     "execution_count": 31,
     "metadata": {},
     "output_type": "execute_result"
    }
   ],
   "source": [
    "numero=100\n",
    "cadena=str(numero)\n",
    "cadena\n"
   ]
  },
  {
   "cell_type": "code",
   "execution_count": 33,
   "id": "3de98b02",
   "metadata": {},
   "outputs": [
    {
     "data": {
      "text/plain": [
       "50"
      ]
     },
     "execution_count": 33,
     "metadata": {},
     "output_type": "execute_result"
    }
   ],
   "source": [
    "cadena2=\"50\"\n",
    "numero2=int(cadena2)\n",
    "numero2"
   ]
  },
  {
   "cell_type": "code",
   "execution_count": 34,
   "id": "e66e9cb5",
   "metadata": {},
   "outputs": [
    {
     "data": {
      "text/plain": [
       "int"
      ]
     },
     "execution_count": 34,
     "metadata": {},
     "output_type": "execute_result"
    }
   ],
   "source": [
    "type(numero2)"
   ]
  },
  {
   "cell_type": "code",
   "execution_count": 35,
   "id": "8d390b2c",
   "metadata": {},
   "outputs": [
    {
     "data": {
      "text/plain": [
       "20.0"
      ]
     },
     "execution_count": 35,
     "metadata": {},
     "output_type": "execute_result"
    }
   ],
   "source": [
    "cadena3=\"20\"\n",
    "numero3=float(cadena3)\n",
    "numero3"
   ]
  }
 ],
 "metadata": {
  "kernelspec": {
   "display_name": "Python 3 (ipykernel)",
   "language": "python",
   "name": "python3"
  },
  "language_info": {
   "codemirror_mode": {
    "name": "ipython",
    "version": 3
   },
   "file_extension": ".py",
   "mimetype": "text/x-python",
   "name": "python",
   "nbconvert_exporter": "python",
   "pygments_lexer": "ipython3",
   "version": "3.9.13"
  }
 },
 "nbformat": 4,
 "nbformat_minor": 5
}
